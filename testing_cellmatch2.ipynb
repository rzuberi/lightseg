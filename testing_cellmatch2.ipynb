{
 "cells": [
  {
   "cell_type": "code",
   "execution_count": 5,
   "metadata": {},
   "outputs": [],
   "source": [
    "import cv2\n",
    "import numpy as np\n",
    "from cellmask_model import CellMaskModel\n",
    "import os\n",
    "import matplotlib.pyplot as plt\n",
    "from data import import_images"
   ]
  },
  {
   "cell_type": "code",
   "execution_count": 71,
   "metadata": {},
   "outputs": [],
   "source": [
    "def get_encFeats(model,image):\n",
    "    pad_val = model.expand_div_256(image)[1]\n",
    "    cp, mask, instance_mask, encFeats_cp, encFeats_mask = model.get_pred(image,0,encFeats=True)\n",
    "    return encFeats_cp, encFeats_mask, instance_mask, pad_val\n",
    "\n",
    "def get_encFeats_flat(model,image,type='cp'):\n",
    "    encFeats_cp, encFeats_mask, instance_mask, pad_val = get_encFeats(model,image)\n",
    "\n",
    "    if type=='cp':\n",
    "        encFeats = encFeats_cp\n",
    "    elif type=='mask':\n",
    "        encFeats = encFeats_mask\n",
    "\n",
    "    encFeats_arr = []\n",
    "    for enc in encFeats:\n",
    "        arr = enc.detach()\n",
    "        arr = np.expand_dims(arr,0)\n",
    "        arr = np.expand_dims(arr,0)\n",
    "        encFeats_arr.append(arr)\n",
    "\n",
    "    stacked = model.stack_img(encFeats_arr,colrow=64)\n",
    "    res = cv2.resize(stacked, dsize=(1280, 1280), interpolation=cv2.INTER_CUBIC)\n",
    "    res = res[pad_val:-pad_val, pad_val:-pad_val]\n",
    "    return res, instance_mask\n",
    "\n",
    "def get_centers_of_ROIs(instance_mask):\n",
    "    centers_instance_mask = []\n",
    "    for i in range(1,max(instance_mask.flatten())+1):\n",
    "        cell =  np.array(np.where(instance_mask == i,1,0))\n",
    "        M = cv2.moments(np.float32(cell))\n",
    "        center = (int(M[\"m10\"] / M[\"m00\"]),int(M[\"m01\"] / M[\"m00\"]))\n",
    "        centers_instance_mask.append(center)\n",
    "    return centers_instance_mask\n",
    "\n",
    "def get_instance_encFeats(model,image,type='cp'):\n",
    "    encFeats_flat, instance_mask = get_encFeats_flat(model,image,type=type)\n",
    "\n",
    "    instance_encFeats = []\n",
    "    for i in range(1,max(instance_mask.flatten())+1):\n",
    "        instance_encFeats.append(np.delete(encFeats_flat,np.where(instance_mask.flatten()!=i)))\n",
    "\n",
    "    cell_centers = get_centers_of_ROIs(instance_mask)\n",
    "    return np.array(instance_encFeats), cell_centers\n",
    "\n",
    "def resize_arrays_to_fit_another(arrays_to_resize,array):\n",
    "    arrays_shaped = []\n",
    "    for i in arrays_to_resize:\n",
    "        if i.shape < array.shape:\n",
    "            pad_by = array.shape[0]-i.shape[0]\n",
    "            new_arr = np.pad(i, (0, pad_by), 'constant')\n",
    "            arrays_shaped.append(new_arr)\n",
    "        elif i.shape > array.shape:\n",
    "            arrays_shaped.append(i[:array.shape[0]])\n",
    "        else:\n",
    "            arrays_shaped.append(i)\n",
    "    arrays_shaped = np.array(arrays_shaped)\n",
    "    return arrays_shaped\n",
    "\n",
    "def get_distance_between_cells(initial_cell_center,all_cell_centers):\n",
    "    center_distances = []\n",
    "    a = np.array(initial_cell_center)\n",
    "    for cell_center in all_cell_centers:\n",
    "        b = np.array(cell_center)\n",
    "        center_distances.append(np.linalg.norm(a-b))\n",
    "    return center_distances\n",
    "\n",
    "def get_matching_cells(initial_cell,all_cells,cell_distances,radius=1000):\n",
    "    all_cells_shaped = resize_arrays_to_fit_another(all_cells,initial_cell)\n",
    "    cos_sim = np.dot(initial_cell, all_cells_shaped.T)/(np.linalg.norm(all_cells_shaped)*np.linalg.norm(initial_cell))\n",
    "\n",
    "    #use the radius to limit the possible cells,\n",
    "    #maybe input into the function an array of all the cells but just their distance to the others\n",
    "    cell_distances = np.array(cell_distances)\n",
    "    possible_matches = np.where(cell_distances < radius,cos_sim,0)\n",
    "\n",
    "    match_index = np.argmax(possible_matches)\n",
    "    #return idnex of max value in possible_matches\n",
    "\n",
    "    return match_index\n"
   ]
  },
  {
   "cell_type": "code",
   "execution_count": 74,
   "metadata": {},
   "outputs": [
    {
     "name": "stdout",
     "output_type": "stream",
     "text": [
      "25\n",
      "(1, 1, 256, 256)\n"
     ]
    },
    {
     "name": "stderr",
     "output_type": "stream",
     "text": [
      "C:\\Users\\rz200\\AppData\\Local\\Temp\\ipykernel_9412\\1001339444.py:43: VisibleDeprecationWarning: Creating an ndarray from ragged nested sequences (which is a list-or-tuple of lists-or-tuples-or ndarrays with different lengths or shapes) is deprecated. If you meant to do this, you must specify 'dtype=object' when creating the ndarray.\n",
      "  return np.array(instance_encFeats), cell_centers\n"
     ]
    },
    {
     "name": "stdout",
     "output_type": "stream",
     "text": [
      "25\n",
      "(1, 1, 256, 256)\n",
      "(518, 14)\n",
      "9\n"
     ]
    }
   ],
   "source": [
    "model = CellMaskModel()\n",
    "model.import_model(os.getcwd() + '/saved_weights/cp_model', os.getcwd() + '/saved_weights/mask_model')\n",
    "\n",
    "images_path_1059 = os.getcwd() + '/images_1059_0/'\n",
    "images_1059 = import_images(images_path_1059,normalisation=True,num_imgs=5,format='.tiff')\n",
    "\n",
    "instance_encFeats_0, cell_centers_0 = get_instance_encFeats(model,images_1059[0],type='cp')\n",
    "instance_encFeats_1, cell_centers_1 = get_instance_encFeats(model,images_1059[1],type='cp')\n",
    "\n",
    "first_cell = instance_encFeats_0[0]\n",
    "first_cell_center = cell_centers_0[0]\n",
    "print(first_cell_center)\n",
    "distance_between_cells_from_first = get_distance_between_cells(first_cell_center,cell_centers_1)\n",
    "possible_matches = get_matching_cells(first_cell,instance_encFeats_1,distance_between_cells_from_first,radius=400)\n",
    "print(possible_matches)"
   ]
  },
  {
   "cell_type": "code",
   "execution_count": null,
   "metadata": {},
   "outputs": [],
   "source": [
    "plt.imshow()"
   ]
  },
  {
   "cell_type": "code",
   "execution_count": 70,
   "metadata": {},
   "outputs": [
    {
     "name": "stdout",
     "output_type": "stream",
     "text": [
      "[ 1.16496146e-01  0.00000000e+00  0.00000000e+00  0.00000000e+00\n",
      "  0.00000000e+00  0.00000000e+00  0.00000000e+00  1.15337325e-02\n",
      "  0.00000000e+00  0.00000000e+00  0.00000000e+00 -5.21657967e-05\n",
      "  0.00000000e+00  0.00000000e+00  0.00000000e+00  0.00000000e+00\n",
      "  0.00000000e+00 -2.19487512e-04  0.00000000e+00  0.00000000e+00\n",
      "  1.41716609e-02  0.00000000e+00  0.00000000e+00  0.00000000e+00\n",
      "  0.00000000e+00  0.00000000e+00  0.00000000e+00  0.00000000e+00\n",
      "  0.00000000e+00  0.00000000e+00  0.00000000e+00  0.00000000e+00\n",
      "  0.00000000e+00  0.00000000e+00  0.00000000e+00  0.00000000e+00\n",
      "  0.00000000e+00  0.00000000e+00  0.00000000e+00  0.00000000e+00\n",
      "  0.00000000e+00  0.00000000e+00  0.00000000e+00  0.00000000e+00\n",
      "  0.00000000e+00  0.00000000e+00  0.00000000e+00  0.00000000e+00\n",
      "  0.00000000e+00  0.00000000e+00  0.00000000e+00  0.00000000e+00\n",
      "  0.00000000e+00  0.00000000e+00  0.00000000e+00  0.00000000e+00\n",
      "  0.00000000e+00  0.00000000e+00  0.00000000e+00  0.00000000e+00\n",
      "  0.00000000e+00  0.00000000e+00  0.00000000e+00  0.00000000e+00\n",
      "  0.00000000e+00  0.00000000e+00  0.00000000e+00  0.00000000e+00\n",
      "  0.00000000e+00  0.00000000e+00  0.00000000e+00  0.00000000e+00\n",
      "  0.00000000e+00  0.00000000e+00  0.00000000e+00  0.00000000e+00\n",
      "  0.00000000e+00  0.00000000e+00  0.00000000e+00  0.00000000e+00\n",
      "  0.00000000e+00  0.00000000e+00  0.00000000e+00  0.00000000e+00\n",
      "  0.00000000e+00  0.00000000e+00  0.00000000e+00  0.00000000e+00\n",
      "  0.00000000e+00  0.00000000e+00  0.00000000e+00  0.00000000e+00\n",
      "  0.00000000e+00  0.00000000e+00  0.00000000e+00  0.00000000e+00\n",
      "  0.00000000e+00  0.00000000e+00  0.00000000e+00  0.00000000e+00\n",
      "  0.00000000e+00  0.00000000e+00  0.00000000e+00  0.00000000e+00\n",
      "  0.00000000e+00  0.00000000e+00  0.00000000e+00  0.00000000e+00\n",
      "  0.00000000e+00  0.00000000e+00  0.00000000e+00  0.00000000e+00\n",
      "  0.00000000e+00  0.00000000e+00  0.00000000e+00  0.00000000e+00\n",
      "  0.00000000e+00  0.00000000e+00  0.00000000e+00  0.00000000e+00\n",
      "  0.00000000e+00  0.00000000e+00  0.00000000e+00  0.00000000e+00\n",
      "  0.00000000e+00  0.00000000e+00  0.00000000e+00  0.00000000e+00\n",
      "  0.00000000e+00  0.00000000e+00  0.00000000e+00  0.00000000e+00\n",
      "  0.00000000e+00  0.00000000e+00  0.00000000e+00  0.00000000e+00\n",
      "  0.00000000e+00  0.00000000e+00  0.00000000e+00  0.00000000e+00\n",
      "  0.00000000e+00  0.00000000e+00  0.00000000e+00  0.00000000e+00\n",
      "  0.00000000e+00  0.00000000e+00  0.00000000e+00  0.00000000e+00\n",
      "  0.00000000e+00  0.00000000e+00  0.00000000e+00  0.00000000e+00\n",
      "  0.00000000e+00  0.00000000e+00  0.00000000e+00  0.00000000e+00\n",
      "  0.00000000e+00  0.00000000e+00  0.00000000e+00  0.00000000e+00\n",
      "  0.00000000e+00  0.00000000e+00  0.00000000e+00  0.00000000e+00\n",
      "  0.00000000e+00  0.00000000e+00  0.00000000e+00  0.00000000e+00\n",
      "  0.00000000e+00  0.00000000e+00  0.00000000e+00  0.00000000e+00\n",
      "  0.00000000e+00  0.00000000e+00  0.00000000e+00  0.00000000e+00\n",
      "  0.00000000e+00  0.00000000e+00  0.00000000e+00  0.00000000e+00\n",
      "  0.00000000e+00  0.00000000e+00  0.00000000e+00  0.00000000e+00\n",
      "  0.00000000e+00  0.00000000e+00  0.00000000e+00  0.00000000e+00\n",
      "  0.00000000e+00  0.00000000e+00  0.00000000e+00  0.00000000e+00\n",
      "  0.00000000e+00  0.00000000e+00  0.00000000e+00  0.00000000e+00\n",
      "  0.00000000e+00]\n"
     ]
    }
   ],
   "source": [
    "possible_matches = get_matching_cells(first_cell,instance_encFeats_1,distance_between_cells_from_first,radius=200)\n",
    "print(possible_matches)"
   ]
  },
  {
   "cell_type": "code",
   "execution_count": 48,
   "metadata": {},
   "outputs": [],
   "source": [
    "first_cell = instance_encFeats_0[0]\n",
    "\n",
    "cos_sim_index = get_distance_between_cells(first_cell,instance_encFeats_1)\n",
    "cell_centers = get_centers_of_ROIs(instance_mask[0])"
   ]
  },
  {
   "cell_type": "code",
   "execution_count": 53,
   "metadata": {},
   "outputs": [
    {
     "data": {
      "text/plain": [
       "(197,)"
      ]
     },
     "execution_count": 53,
     "metadata": {},
     "output_type": "execute_result"
    }
   ],
   "source": [
    "cos_sim_index.shape"
   ]
  },
  {
   "cell_type": "code",
   "execution_count": 28,
   "metadata": {},
   "outputs": [
    {
     "ename": "ValueError",
     "evalue": "shapes (517,) and (197,) not aligned: 517 (dim 0) != 197 (dim 0)",
     "output_type": "error",
     "traceback": [
      "\u001b[1;31m---------------------------------------------------------------------------\u001b[0m",
      "\u001b[1;31mValueError\u001b[0m                                Traceback (most recent call last)",
      "Cell \u001b[1;32mIn[28], line 1\u001b[0m\n\u001b[1;32m----> 1\u001b[0m cos_sim \u001b[39m=\u001b[39m instance_encFeats_1[np\u001b[39m.\u001b[39margmax(np\u001b[39m.\u001b[39;49mdot(instance_encFeats_0[\u001b[39m0\u001b[39;49m], instance_encFeats_1\u001b[39m.\u001b[39;49mT)\u001b[39m/\u001b[39m(np\u001b[39m.\u001b[39mlinalg\u001b[39m.\u001b[39mnorm(instance_encFeats_1)\u001b[39m*\u001b[39mnp\u001b[39m.\u001b[39mlinalg\u001b[39m.\u001b[39mnorm(instance_encFeats_0[\u001b[39m0\u001b[39m])))]\n",
      "File \u001b[1;32m<__array_function__ internals>:180\u001b[0m, in \u001b[0;36mdot\u001b[1;34m(*args, **kwargs)\u001b[0m\n",
      "\u001b[1;31mValueError\u001b[0m: shapes (517,) and (197,) not aligned: 517 (dim 0) != 197 (dim 0)"
     ]
    }
   ],
   "source": [
    "cos_sim = instance_encFeats_1[np.argmax(np.dot(instance_encFeats_0[0], instance_encFeats_1.T)/(np.linalg.norm(instance_encFeats_1)*np.linalg.norm(instance_encFeats_0[0])))]"
   ]
  }
 ],
 "metadata": {
  "kernelspec": {
   "display_name": "cellenv",
   "language": "python",
   "name": "python3"
  },
  "language_info": {
   "codemirror_mode": {
    "name": "ipython",
    "version": 3
   },
   "file_extension": ".py",
   "mimetype": "text/x-python",
   "name": "python",
   "nbconvert_exporter": "python",
   "pygments_lexer": "ipython3",
   "version": "3.8.16"
  },
  "orig_nbformat": 4
 },
 "nbformat": 4,
 "nbformat_minor": 2
}

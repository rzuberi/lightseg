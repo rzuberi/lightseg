{
 "cells": [
  {
   "cell_type": "code",
   "execution_count": 5,
   "metadata": {},
   "outputs": [],
   "source": [
    "import cv2\n",
    "import numpy as np\n",
    "from cellmask_model import CellMaskModel\n",
    "import os\n",
    "import matplotlib.pyplot as plt\n",
    "from data import import_images"
   ]
  },
  {
   "cell_type": "code",
   "execution_count": 47,
   "metadata": {},
   "outputs": [],
   "source": [
    "def get_encFeats(model,image):\n",
    "    pad_val = model.expand_div_256(image)[1]\n",
    "    cp, mask, instance_mask, encFeats_cp, encFeats_mask = model.get_pred(image,0,encFeats=True)\n",
    "    return encFeats_cp, encFeats_mask, instance_mask, pad_val\n",
    "\n",
    "def get_encFeats_flat(model,image,type='cp'):\n",
    "    encFeats_cp, encFeats_mask, instance_mask, pad_val = get_encFeats(model,image)\n",
    "\n",
    "    if type=='cp':\n",
    "        encFeats = encFeats_cp\n",
    "    elif type=='mask':\n",
    "        encFeats = encFeats_mask\n",
    "\n",
    "    encFeats_arr = []\n",
    "    for enc in encFeats:\n",
    "        arr = enc.detach()\n",
    "        arr = np.expand_dims(arr,0)\n",
    "        arr = np.expand_dims(arr,0)\n",
    "        encFeats_arr.append(arr)\n",
    "\n",
    "    stacked = model.stack_img(encFeats_arr,colrow=64)\n",
    "    res = cv2.resize(stacked, dsize=(1280, 1280), interpolation=cv2.INTER_CUBIC)\n",
    "    res = res[pad_val:-pad_val, pad_val:-pad_val]\n",
    "    return res, instance_mask\n",
    "\n",
    "def get_instance_encFeats(model,image,type='cp'):\n",
    "    encFeats_flat, instance_mask = get_encFeats_flat(model,image,type=type)\n",
    "\n",
    "    instance_encFeats = []\n",
    "    for i in range(1,max(instance_mask.flatten())+1):\n",
    "        instance_encFeats.append(np.delete(encFeats_flat,np.where(instance_mask.flatten()!=i)))\n",
    "    return np.array(instance_encFeats)\n",
    "\n",
    "def resize_arrays_to_fit_another(arrays_to_resize,array):\n",
    "    arrays_shaped = []\n",
    "    for i in arrays_to_resize:\n",
    "        if i.shape < array.shape:\n",
    "            pad_by = array.shape[0]-i.shape[0]\n",
    "            new_arr = np.pad(i, (0, pad_by), 'constant')\n",
    "            arrays_shaped.append(new_arr)\n",
    "        elif i.shape > array.shape:\n",
    "            arrays_shaped.append(i[:array.shape[0]])\n",
    "        else:\n",
    "            arrays_shaped.append(i)\n",
    "    arrays_shaped = np.array(arrays_shaped)\n",
    "    return arrays_shaped\n",
    "\n",
    "\n",
    "def get_centers_of_ROIs(instance_mask):\n",
    "    centers_instance_mask = []\n",
    "    for i in range(1,max(instance_mask.flatten())+1):\n",
    "        cell =  np.array(np.where(instance_mask == i,1,0))\n",
    "        M = cv2.moments(np.float32(cell))\n",
    "        center = (int(M[\"m10\"] / M[\"m00\"]),int(M[\"m01\"] / M[\"m00\"]))\n",
    "        centers_instance_mask.append(center)\n",
    "    return centers_instance_mask\n",
    "\n",
    "def get_distance_between_cells(initial_cell,all_cells,radius=1000):\n",
    "    all_cells_shaped = resize_arrays_to_fit_another(all_cells,initial_cell)\n",
    "    cos_sim = np.dot(initial_cell, all_cells_shaped.T)/(np.linalg.norm(all_cells_shaped)*np.linalg.norm(initial_cell))\n",
    "\n",
    "    #use the radius to limit the possible cells,\n",
    "    #maybe input into the function an array of all the cells but just their distance to the others\n",
    "\n",
    "    return cos_sim\n",
    "\n",
    "def get_center_distances(cell_centers,cell_num):\n",
    "    center_distances = []\n",
    "    a = np.array(cell_centers[cell_num])\n",
    "    for cell_center in cell_centers:\n",
    "        b = np.array(cell_center)\n",
    "        center_distances.append(np.linalg.norm(a-b))\n",
    "    return center_distances\n"
   ]
  },
  {
   "cell_type": "code",
   "execution_count": 33,
   "metadata": {},
   "outputs": [
    {
     "name": "stdout",
     "output_type": "stream",
     "text": [
      "25\n",
      "(1, 1, 256, 256)\n"
     ]
    },
    {
     "name": "stderr",
     "output_type": "stream",
     "text": [
      "C:\\Users\\rz200\\AppData\\Local\\Temp\\ipykernel_9412\\2807538259.py:32: VisibleDeprecationWarning: Creating an ndarray from ragged nested sequences (which is a list-or-tuple of lists-or-tuples-or ndarrays with different lengths or shapes) is deprecated. If you meant to do this, you must specify 'dtype=object' when creating the ndarray.\n",
      "  return np.array(instance_encFeats)\n"
     ]
    },
    {
     "name": "stdout",
     "output_type": "stream",
     "text": [
      "25\n",
      "(1, 1, 256, 256)\n"
     ]
    }
   ],
   "source": [
    "model = CellMaskModel()\n",
    "model.import_model(os.getcwd() + '/saved_weights/cp_model', os.getcwd() + '/saved_weights/mask_model')\n",
    "\n",
    "images_path_1059 = os.getcwd() + '/images_1059_0/'\n",
    "images_1059 = import_images(images_path_1059,normalisation=True,num_imgs=5,format='.tiff')\n",
    "\n",
    "instance_encFeats_0 = get_instance_encFeats(model,images_1059[0],type='cp')\n",
    "instance_encFeats_1 = get_instance_encFeats(model,images_1059[1],type='cp')\n",
    "\n",
    "first_cell = instance_encFeats_0[0]\n",
    "cos_sim_index = get_distance_between_cells(first_cell,instance_encFeats_1)"
   ]
  },
  {
   "cell_type": "code",
   "execution_count": 36,
   "metadata": {},
   "outputs": [
    {
     "name": "stdout",
     "output_type": "stream",
     "text": [
      "25\n",
      "(1, 1, 256, 256)\n"
     ]
    }
   ],
   "source": [
    "cp, mask, instance_mask, encFeats_cp, encFeats_mask = model.get_pred(images_1059[0],channel=0,encFeats=True)"
   ]
  },
  {
   "cell_type": "markdown",
   "metadata": {},
   "source": []
  },
  {
   "cell_type": "code",
   "execution_count": 48,
   "metadata": {},
   "outputs": [],
   "source": [
    "first_cell = instance_encFeats_0[0]\n",
    "\n",
    "cos_sim_index = get_distance_between_cells(first_cell,instance_encFeats_1)\n",
    "cell_centers = get_centers_of_ROIs(instance_mask[0])"
   ]
  },
  {
   "cell_type": "code",
   "execution_count": 46,
   "metadata": {},
   "outputs": [],
   "source": [
    "instance_mask_0 = instance_mask[0]\n",
    "\n",
    "centers_instance_mask = []\n",
    "for i in range(1,max(instance_mask_0.flatten())+1):\n",
    "    cell = np.where(instance_mask_0 == i,1,0)\n",
    "    M = cv2.moments(np.float32(cell))\n",
    "    center = (int(M[\"m10\"] / M[\"m00\"]),int(M[\"m01\"] / M[\"m00\"]))\n",
    "    centers_instance_mask.append(center)\n",
    "#return centers_instance_mask\n"
   ]
  },
  {
   "cell_type": "markdown",
   "metadata": {},
   "source": []
  },
  {
   "cell_type": "code",
   "execution_count": 34,
   "metadata": {},
   "outputs": [
    {
     "data": {
      "text/plain": [
       "array([ 1.16496146e-01,  1.65883161e-04,  1.90051906e-02,  3.65387648e-03,\n",
       "        4.30590953e-05,  3.22814323e-02,  2.58465745e-02,  1.15337325e-02,\n",
       "        1.97315094e-04,  1.25500098e-01,  4.00840417e-02, -5.21657967e-05,\n",
       "        2.56426167e-02,  1.90165807e-02,  2.21931897e-02,  1.97097901e-02,\n",
       "        1.10066291e-02, -2.19487512e-04,  4.08802507e-03,  3.74424784e-03,\n",
       "        1.41716609e-02,  6.16137274e-02,  6.68611079e-02,  1.05067826e-04,\n",
       "        1.30939558e-02,  3.77351567e-02,  1.88660529e-02,  1.48693388e-02,\n",
       "        4.72209789e-03,  2.71877218e-02, -2.25122808e-03,  1.21671811e-03,\n",
       "       -3.73891066e-03,  1.60924103e-02,  2.23307237e-02,  1.21407537e-02,\n",
       "        4.09740843e-02,  1.90758597e-04,  1.17141111e-02,  5.57612367e-02,\n",
       "        2.04655733e-02,  3.69997183e-03,  2.43717896e-05,  2.48461642e-04,\n",
       "        1.51670454e-02,  2.58691758e-02,  4.02631462e-02,  7.19938660e-03,\n",
       "        5.70922093e-05,  3.86615433e-02,  3.27468365e-02,  3.61710414e-02,\n",
       "       -7.09031709e-04,  5.34761837e-03,  5.33115231e-02,  3.80336381e-02,\n",
       "        6.81924820e-02,  5.58327476e-04,  1.60999987e-02,  2.20798533e-02,\n",
       "        7.97953806e-04,  6.58236146e-02,  6.77546263e-02,  2.51334608e-02,\n",
       "        2.68652141e-02,  7.99523667e-03,  5.84650916e-05,  2.96611134e-02,\n",
       "        7.61108473e-02,  2.81234495e-02,  4.46276031e-02,  2.11695995e-04,\n",
       "        1.28277970e-04,  3.55057564e-04,  2.00719922e-03,  5.88153414e-02,\n",
       "        1.12527698e-04,  4.20829747e-05,  1.24828197e-01,  7.07578361e-02,\n",
       "        2.15021987e-02,  5.23949799e-04,  2.18486842e-02,  6.64770976e-03,\n",
       "        1.90926585e-02,  1.87009908e-02,  1.10614020e-02,  1.90379709e-01,\n",
       "        9.85507853e-03,  1.63649358e-02,  9.63260463e-05,  3.68834026e-02,\n",
       "        9.68464650e-03,  4.01205725e-05,  1.13574691e-01, -1.40362047e-03,\n",
       "        1.61605906e-02,  1.06533812e-02, -2.19064555e-03,  1.25580914e-02,\n",
       "        5.51412143e-02,  3.99547741e-02,  3.34360339e-02,  1.14124436e-02,\n",
       "        1.92009956e-02,  4.68934737e-02,  4.88606468e-02,  3.55201028e-02,\n",
       "        1.85276251e-02,  2.31736302e-02,  1.46940108e-02,  6.93006814e-02,\n",
       "        4.77206334e-02,  3.56459767e-02,  3.72129530e-02,  1.11299865e-02,\n",
       "        1.19424076e-03,  1.27373841e-02,  3.94022884e-03,  1.20976241e-04,\n",
       "        1.59713607e-02,  1.98006001e-05,  2.93121684e-05,  2.35414373e-05,\n",
       "        1.13147892e-01,  2.24471036e-02, -3.15894249e-05,  7.04179984e-03,\n",
       "       -3.57858115e-03,  4.58738441e-03,  5.34178829e-03,  2.15180069e-02,\n",
       "        5.44626005e-02,  3.67464345e-05, -3.49809998e-04,  2.68270653e-02,\n",
       "        9.38818976e-02,  2.39726659e-02,  1.40245825e-01,  5.08200563e-02,\n",
       "        2.36716382e-02,  8.26308504e-02,  2.48366162e-01,  5.91153454e-04,\n",
       "        2.00433768e-02,  2.65588984e-02,  5.52589111e-02,  2.07404383e-02,\n",
       "        4.80367057e-02,  4.69467789e-02,  7.56575679e-03,  6.42876625e-02,\n",
       "        2.27294061e-02, -8.28217599e-04,  1.17756156e-02,  1.31782135e-02,\n",
       "        1.20205283e-02,  1.98779017e-01,  6.67790184e-03,  7.56452754e-02,\n",
       "        1.76756922e-02,  2.67303440e-05,  2.39833389e-04,  2.19126698e-04,\n",
       "        4.13903259e-02,  3.43762105e-04,  1.76145211e-02,  1.61293923e-04,\n",
       "        3.87628970e-05,  8.67187604e-02,  2.37322040e-03,  1.61569584e-02,\n",
       "        7.34060523e-05,  8.47624848e-04,  8.46158655e-04,  1.04938775e-01,\n",
       "        8.69261660e-03,  6.43600058e-03, -1.44457456e-03,  2.00540964e-02,\n",
       "       -2.54580588e-03,  2.36348622e-02,  2.83024404e-02,  5.21829759e-04,\n",
       "        1.65213321e-04,  1.72877495e-04,  4.11651190e-03,  7.78929377e-03,\n",
       "        3.61266546e-02, -2.24974076e-03, -1.05935702e-04,  6.47715013e-03,\n",
       "        8.60073715e-02,  1.84143987e-02,  1.72570515e-02, -1.73529820e-03,\n",
       "        9.68857785e-04], dtype=float32)"
      ]
     },
     "execution_count": 34,
     "metadata": {},
     "output_type": "execute_result"
    }
   ],
   "source": [
    "cos_sim_index"
   ]
  },
  {
   "cell_type": "code",
   "execution_count": 28,
   "metadata": {},
   "outputs": [
    {
     "ename": "ValueError",
     "evalue": "shapes (517,) and (197,) not aligned: 517 (dim 0) != 197 (dim 0)",
     "output_type": "error",
     "traceback": [
      "\u001b[1;31m---------------------------------------------------------------------------\u001b[0m",
      "\u001b[1;31mValueError\u001b[0m                                Traceback (most recent call last)",
      "Cell \u001b[1;32mIn[28], line 1\u001b[0m\n\u001b[1;32m----> 1\u001b[0m cos_sim \u001b[39m=\u001b[39m instance_encFeats_1[np\u001b[39m.\u001b[39margmax(np\u001b[39m.\u001b[39;49mdot(instance_encFeats_0[\u001b[39m0\u001b[39;49m], instance_encFeats_1\u001b[39m.\u001b[39;49mT)\u001b[39m/\u001b[39m(np\u001b[39m.\u001b[39mlinalg\u001b[39m.\u001b[39mnorm(instance_encFeats_1)\u001b[39m*\u001b[39mnp\u001b[39m.\u001b[39mlinalg\u001b[39m.\u001b[39mnorm(instance_encFeats_0[\u001b[39m0\u001b[39m])))]\n",
      "File \u001b[1;32m<__array_function__ internals>:180\u001b[0m, in \u001b[0;36mdot\u001b[1;34m(*args, **kwargs)\u001b[0m\n",
      "\u001b[1;31mValueError\u001b[0m: shapes (517,) and (197,) not aligned: 517 (dim 0) != 197 (dim 0)"
     ]
    }
   ],
   "source": [
    "cos_sim = instance_encFeats_1[np.argmax(np.dot(instance_encFeats_0[0], instance_encFeats_1.T)/(np.linalg.norm(instance_encFeats_1)*np.linalg.norm(instance_encFeats_0[0])))]"
   ]
  }
 ],
 "metadata": {
  "kernelspec": {
   "display_name": "cellenv",
   "language": "python",
   "name": "python3"
  },
  "language_info": {
   "codemirror_mode": {
    "name": "ipython",
    "version": 3
   },
   "file_extension": ".py",
   "mimetype": "text/x-python",
   "name": "python",
   "nbconvert_exporter": "python",
   "pygments_lexer": "ipython3",
   "version": "3.8.16"
  },
  "orig_nbformat": 4
 },
 "nbformat": 4,
 "nbformat_minor": 2
}
